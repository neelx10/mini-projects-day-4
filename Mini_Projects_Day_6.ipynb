{
  "nbformat": 4,
  "nbformat_minor": 0,
  "metadata": {
    "colab": {
      "provenance": [],
      "authorship_tag": "ABX9TyPHkCk2FIVDXd5bZQTAypTa",
      "include_colab_link": true
    },
    "kernelspec": {
      "name": "python3",
      "display_name": "Python 3"
    },
    "language_info": {
      "name": "python"
    }
  },
  "cells": [
    {
      "cell_type": "markdown",
      "metadata": {
        "id": "view-in-github",
        "colab_type": "text"
      },
      "source": [
        "<a href=\"https://colab.research.google.com/github/neelx10/mini-projects-day-4/blob/main/Mini_Projects_Day_6.ipynb\" target=\"_parent\"><img src=\"https://colab.research.google.com/assets/colab-badge.svg\" alt=\"Open In Colab\"/></a>"
      ]
    },
    {
      "cell_type": "markdown",
      "source": [
        "MINI-PROJECTS (DAY-6)"
      ],
      "metadata": {
        "id": "Slb5aUTJzmTE"
      }
    },
    {
      "cell_type": "markdown",
      "source": [
        "#Project-1\n",
        "Convert 100 images to Grey Scale (b/w)"
      ],
      "metadata": {
        "id": "vBviMa6jyltG"
      }
    },
    {
      "cell_type": "code",
      "execution_count": 2,
      "metadata": {
        "colab": {
          "base_uri": "https://localhost:8080/"
        },
        "id": "7TnpsLHcSSQn",
        "outputId": "bb924aae-e366-4d2d-8139-3a280987515b"
      },
      "outputs": [
        {
          "output_type": "stream",
          "name": "stdout",
          "text": [
            "Requirement already satisfied: opencv-python in /usr/local/lib/python3.10/dist-packages (4.7.0.72)\n",
            "Requirement already satisfied: numpy>=1.21.2 in /usr/local/lib/python3.10/dist-packages (from opencv-python) (1.22.4)\n"
          ]
        }
      ],
      "source": [
        "pip install opencv-python\n"
      ]
    },
    {
      "cell_type": "code",
      "source": [
        "import cv2\n",
        "import os"
      ],
      "metadata": {
        "id": "H6qyFbNESfJ9"
      },
      "execution_count": 3,
      "outputs": []
    },
    {
      "cell_type": "code",
      "source": [
        "def convert_to_grayscale(image_path, filename):\n",
        "    # Read the image\n",
        "    image = cv2.imread(image_path)\n",
        "\n",
        "    # Convert the image to grayscale\n",
        "    grayscale_image = cv2.cvtColor(image, cv2.COLOR_BGR2GRAY)\n",
        "\n",
        "    # Save the grayscale image\n",
        "    cv2.imwrite(image_path, grayscale_image)\n",
        "\n",
        "    print(f\"Converted {filename} to grayscale\")\n"
      ],
      "metadata": {
        "id": "dX5iV1uFSe-8"
      },
      "execution_count": 4,
      "outputs": []
    },
    {
      "cell_type": "code",
      "source": [
        "directory = \"/content/\""
      ],
      "metadata": {
        "id": "4QXtjU9lSezd"
      },
      "execution_count": 8,
      "outputs": []
    },
    {
      "cell_type": "code",
      "source": [
        "for filename in os.listdir(directory):\n",
        "    if filename.endswith(\".jpeg\") or filename.endswith(\".png\"):\n",
        "        image_path = os.path.join(directory, filename)\n",
        "        convert_to_grayscale(image_path, filename)"
      ],
      "metadata": {
        "id": "1YsjdG9hSpVr",
        "colab": {
          "base_uri": "https://localhost:8080/"
        },
        "outputId": "ef6be155-0f87-47ec-a604-d0914a1dd580"
      },
      "execution_count": 9,
      "outputs": [
        {
          "output_type": "stream",
          "name": "stdout",
          "text": [
            "Converted download (3).jpeg to grayscale\n",
            "Converted download (1).jpeg to grayscale\n",
            "Converted download (5).jpeg to grayscale\n",
            "Converted download (2).jpeg to grayscale\n",
            "Converted download.jpeg to grayscale\n",
            "Converted download (4).jpeg to grayscale\n",
            "Converted download (6).jpeg to grayscale\n"
          ]
        }
      ]
    },
    {
      "cell_type": "markdown",
      "source": [
        "#Project-2\n",
        "Resize 100 images to 50% (smaller) \" using OpenCV"
      ],
      "metadata": {
        "id": "ruiJapVUyhkP"
      }
    },
    {
      "cell_type": "code",
      "source": [
        "# Set the path to the directory containing the images\n",
        "image_dir = \"/content/\"\n",
        "\n",
        "# Get the list of image file names\n",
        "image_files = os.listdir(image_dir)"
      ],
      "metadata": {
        "id": "OEH4q8zDwnoq"
      },
      "execution_count": 10,
      "outputs": []
    },
    {
      "cell_type": "code",
      "source": [
        "for file_name in image_files:\n",
        "    # Read the image\n",
        "    if file_name.endswith(\".jpeg\"):\n",
        "      image_path = os.path.join(image_dir, file_name)\n",
        "      image = cv2.imread(image_path)\n",
        "\n",
        "      # Calculate the new width and height for resizing\n",
        "      new_width = int(image.shape[1] * 0.5)\n",
        "      new_height = int(image.shape[0] * 0.5)\n",
        "\n",
        "      # Resize the image to 50% using the calculated dimensions\n",
        "      resized_image = cv2.resize(image, (new_width, new_height))\n",
        "\n",
        "      # Save the resized image\n",
        "      output_path = os.path.join(image_dir, \"resized_\" + file_name)\n",
        "      cv2.imwrite(output_path, resized_image)\n",
        "\n",
        "print(\"Resizing completed.\")\n"
      ],
      "metadata": {
        "colab": {
          "base_uri": "https://localhost:8080/"
        },
        "id": "Cb8mvVNGw7eY",
        "outputId": "8d35c6cb-29a7-4c76-dc28-b48919170b45"
      },
      "execution_count": 14,
      "outputs": [
        {
          "output_type": "stream",
          "name": "stdout",
          "text": [
            "Resized download (3).jpeg to 50%\n",
            "Resized download (1).jpeg to 50%\n",
            "Resized download (5).jpeg to 50%\n",
            "Resized download (2).jpeg to 50%\n",
            "Resized download.jpeg to 50%\n",
            "Resized download (4).jpeg to 50%\n",
            "Resized download (6).jpeg to 50%\n",
            "Resizing completed.\n"
          ]
        }
      ]
    },
    {
      "cell_type": "markdown",
      "source": [
        "#Project-3\n",
        "Convert Colored Video to Grey Scale (b/w)\" using OpenCV"
      ],
      "metadata": {
        "id": "5FqURXp7z6vm"
      }
    },
    {
      "cell_type": "code",
      "source": [
        "from google.colab.patches import cv2_imshow"
      ],
      "metadata": {
        "id": "qm-KibOu1v3U"
      },
      "execution_count": 18,
      "outputs": []
    },
    {
      "cell_type": "code",
      "source": [
        "# Open the video file\n",
        "video_path = \"/content/colored_video.mp4\"\n",
        "cap = cv2.VideoCapture(video_path)\n",
        "\n",
        "# Get the video properties\n",
        "frame_width = int(cap.get(cv2.CAP_PROP_FRAME_WIDTH))\n",
        "frame_height = int(cap.get(cv2.CAP_PROP_FRAME_HEIGHT))\n",
        "fps = cap.get(cv2.CAP_PROP_FPS)\n",
        "\n",
        "output_path = \"/content/black_white.mp4\"\n",
        "\n",
        "# Create the VideoWriter object\n",
        "out = cv2.VideoWriter(output_path, 0, fps, (frame_width, frame_height), isColor=False)\n",
        "\n",
        "# Process each frame of the video\n",
        "while cap.isOpened():\n",
        "    ret, frame = cap.read()\n",
        "    if not ret:\n",
        "        break\n",
        "\n",
        "    # Convert the frame to grayscale\n",
        "    gray_frame = cv2.cvtColor(frame, cv2.COLOR_BGR2GRAY)\n",
        "\n",
        "    # Write the grayscale frame to the output video\n",
        "    out.write(gray_frame)\n",
        "\n",
        "# Release the video capture and writer objects\n",
        "cap.release()\n",
        "out.release()"
      ],
      "metadata": {
        "id": "g23aRJYwyYhP"
      },
      "execution_count": 30,
      "outputs": []
    },
    {
      "cell_type": "markdown",
      "source": [
        "#Project-4\n",
        "Resize the Colored Video to 50% (smaller)\" using OpenCV"
      ],
      "metadata": {
        "id": "ShS7q3QB32O_"
      }
    },
    {
      "cell_type": "code",
      "source": [
        "# Open the video file\n",
        "video = cv2.VideoCapture('colored_video.mp4')\n",
        "\n",
        "# Get the original video's width, height, and frames per second (fps)\n",
        "width = int(video.get(cv2.CAP_PROP_FRAME_WIDTH))\n",
        "height = int(video.get(cv2.CAP_PROP_FRAME_HEIGHT))\n",
        "fps = video.get(cv2.CAP_PROP_FPS)\n",
        "\n",
        "# Define the output video filename, codec, width, height, and frames per second\n",
        "output_filename = 'output_video.mp4'\n",
        "fourcc = cv2.VideoWriter_fourcc(*'mp4v')\n",
        "output_width = int(width / 2)\n",
        "output_height = int(height / 2)\n",
        "output_fps = fps\n",
        "\n",
        "# Create the VideoWriter object to write the resized video\n",
        "output_video = cv2.VideoWriter(output_filename, fourcc, output_fps, (output_width, output_height))\n",
        "\n",
        "# Read and resize each frame of the video\n",
        "while True:\n",
        "    ret, frame = video.read()\n",
        "    if not ret:\n",
        "        break\n",
        "\n",
        "    # Resize the frame to 50% of the original size\n",
        "    resized_frame = cv2.resize(frame, (output_width, output_height))\n",
        "\n",
        "    # Write the resized frame to the output video file\n",
        "    output_video.write(resized_frame)\n",
        "\n",
        "# Release the video capture and writer objects\n",
        "video.release()\n",
        "output_video.release()\n",
        "\n",
        "# Close all OpenCV windows\n",
        "cv2.destroyAllWindows()\n"
      ],
      "metadata": {
        "id": "uaCJKpbm18Xc"
      },
      "execution_count": 31,
      "outputs": []
    },
    {
      "cell_type": "code",
      "source": [],
      "metadata": {
        "id": "nFnOQj2a6pTw"
      },
      "execution_count": null,
      "outputs": []
    }
  ]
}